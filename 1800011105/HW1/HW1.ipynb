{
 "cells": [
  {
   "cell_type": "markdown",
   "id": "6293d753-69ff-4c39-9850-edb4846b683b",
   "metadata": {},
   "source": [
    "# 1.对$x$从$0$到$100$，以$10$为步长，编写程序，比较、讨论下列三种计算$e^x$的方法："
   ]
  },
  {
   "cell_type": "markdown",
   "id": "4bb198ce-3c7a-4af5-bbf1-5e93ba21dd47",
   "metadata": {},
   "source": [
    "### （1）直接展开法\n",
    "\\begin{equation}\n",
    "e^{-x} = \\sum_{n=0}^{\\infty}(-1)^n \\frac{x^n}{n!}\n",
    "\\end{equation}"
   ]
  },
  {
   "cell_type": "code",
   "execution_count": 8,
   "id": "11365163-b288-480a-b0a3-521285105d84",
   "metadata": {},
   "outputs": [
    {
     "name": "stdout",
     "output_type": "stream",
     "text": [
      "1e-16\n"
     ]
    }
   ],
   "source": [
    "epsilon_M=1e-6"
   ]
  },
  {
   "cell_type": "code",
   "execution_count": 13,
   "id": "310ba215-b36a-4d77-a30d-cd2c09d7f508",
   "metadata": {},
   "outputs": [],
   "source": [
    "def factorial(n):\n",
    "    fac=1\n",
    "    for i in range(1,n+1):\n",
    "        fac=fac*i\n",
    "        \n",
    "    return fac"
   ]
  },
  {
   "cell_type": "code",
   "execution_count": 27,
   "id": "0ec9a442-8c10-43f7-bff5-dd4eebced4f8",
   "metadata": {},
   "outputs": [
    {
     "name": "stdout",
     "output_type": "stream",
     "text": [
      "e^{-0}=1\n",
      "e^{-10}=4.53999e-05\n",
      "e^{-20}=5.4781e-10\n",
      "e^{-30}=-8.55302e-05\n",
      "e^{-40}=0.147026\n",
      "e^{-50}=-7015.78\n",
      "e^{-60}=-1.22305e+09\n",
      "e^{-70}=1.51418e+13\n",
      "e^{-80}=6.77247e+17\n",
      "e^{-90}=-7.88499e+21\n",
      "e^{-100}=-2.87566e+26\n"
     ]
    }
   ],
   "source": [
    "for x in range(0,110,10):\n",
    "    n = 0\n",
    "    e_minusx = 0\n",
    "    an = 0\n",
    "    \n",
    "    while True:\n",
    "        an = (-1*x)**n/factorial(n)\n",
    "        e_minusx = e_minusx + an \n",
    "        if (abs(an/e_minusx) < epsilon_M/2):\n",
    "            break\n",
    "        n = n + 1\n",
    "    \n",
    "    print(\"e^{-%d}=%g\"%(x,e_minusx))"
   ]
  },
  {
   "cell_type": "markdown",
   "id": "ed94962d-5034-4562-bb0f-4847246a24d4",
   "metadata": {},
   "source": [
    "### （2）递归法\n",
    "\\begin{equation}\n",
    "e^{-x} =\\sum_{n=0}^{\\infty}s_n= \\sum_{n=0}^{\\infty}(-1)^n \\frac{x^n}{n!}\\\\\n",
    "s_n=-s_{n-1}\\frac{x}{n}\n",
    "\\end{equation}"
   ]
  },
  {
   "cell_type": "code",
   "execution_count": 28,
   "id": "7504cd7e-2147-47e0-8f58-102f5135f6d5",
   "metadata": {},
   "outputs": [
    {
     "name": "stdout",
     "output_type": "stream",
     "text": [
      "e^{-0}=1\n",
      "e^{-10}=4.53999e-05\n",
      "e^{-20}=5.62188e-09\n",
      "e^{-30}=-3.06681e-05\n",
      "e^{-40}=-3.16573\n",
      "e^{-50}=11072.9\n",
      "e^{-60}=-3.35168e+08\n",
      "e^{-70}=-3.29796e+13\n",
      "e^{-80}=9.18057e+16\n",
      "e^{-90}=-5.05163e+21\n",
      "e^{-100}=-2.91376e+25\n"
     ]
    }
   ],
   "source": [
    "for x in range(0,110,10):\n",
    "    n = 0\n",
    "    e_minusx = 0\n",
    "    sn = 1\n",
    "    \n",
    "    while True:\n",
    "        e_minusx += sn\n",
    "        sn = -sn*x/(n+1)\n",
    "        if (abs(sn/e_minusx) < epsilon_M/2):\n",
    "            break\n",
    "        n = n + 1\n",
    "\n",
    "    print(\"e^{-%d}=%g\"%(x,e_minusx))"
   ]
  },
  {
   "cell_type": "markdown",
   "id": "012f4fbf-3a3b-44c5-a946-d0ce5e5b2c47",
   "metadata": {},
   "source": [
    "### （3）先利用（2）计算$e^x$，然后求倒数"
   ]
  },
  {
   "cell_type": "code",
   "execution_count": 35,
   "id": "bfd64d5d-a1d4-4726-a9f8-6aa56dae707d",
   "metadata": {},
   "outputs": [
    {
     "name": "stdout",
     "output_type": "stream",
     "text": [
      "e^{-0}=1\n",
      "e^{-10}=4.53999e-05\n",
      "e^{-20}=2.06115e-09\n",
      "e^{-30}=9.35762e-14\n",
      "e^{-40}=4.24835e-18\n",
      "e^{-50}=1.92875e-22\n",
      "e^{-60}=8.75651e-27\n",
      "e^{-70}=3.97545e-31\n",
      "e^{-80}=1.80485e-35\n",
      "e^{-90}=8.19401e-40\n",
      "e^{-100}=3.72008e-44\n"
     ]
    }
   ],
   "source": [
    "for x in range(0,110,10):\n",
    "    n = 0\n",
    "    e_x = 0\n",
    "    sn = 1\n",
    "    \n",
    "    while True:\n",
    "        e_x = e_x + sn\n",
    "        sn = sn*x/(n+1)\n",
    "        if (abs(sn/e_x) < epsilon_M/2):\n",
    "            break\n",
    "        n = n + 1\n",
    "        \n",
    "    e_minusx=1/e_x\n",
    "\n",
    "    print(\"e^{-%d}=%g\"%(x,e_minusx))"
   ]
  },
  {
   "cell_type": "markdown",
   "id": "161a3741-895a-44f6-86c8-19b4b9ff05de",
   "metadata": {},
   "source": [
    "# 2.\n",
    "### （a）计算A的行列式，说明A的确不是奇异矩阵"
   ]
  },
  {
   "cell_type": "markdown",
   "id": "e0657b62-f3cc-4220-b93b-5529a9b0c621",
   "metadata": {},
   "source": [
    "已知$|A|= \\sum_{\\pi\\in P}sign(\\pi)a_{1\\pi_{1}}a_{2\\pi_{2}}\\cdots a_{n\\pi_{n}}$，而上三角矩阵$A$满足$\\forall i>j,a_{ij}=0$，则行列式展开项中唯一不为0的项为$a_{11}a_{22}\\cdots a_{nn}=1$，则$|A|=1$，$A$的确不是奇异矩阵"
   ]
  },
  {
   "cell_type": "markdown",
   "id": "07876ffc-957d-466f-86b7-85724c48093b",
   "metadata": {},
   "source": [
    "### （b）给出矩阵的逆矩阵$A^{-1}$的形式"
   ]
  },
  {
   "cell_type": "markdown",
   "id": "4c5ff572-ea01-4fc3-a227-95e5a063a963",
   "metadata": {},
   "source": [
    "已知代数余子式$\\Delta_{ij}=(-1)^{i+j}|A_{ij}|$，$A_{ij}$是将$A$的第$i$行，第$j$列消去后获得的矩阵; 而$A^{-1}=\\frac{1}{|A|}\\Delta^{T}$， 其中$(\\Delta^T)_{ij}=\\Delta_{ji}$, 显然由分析可得，$\\forall i<j, \\Delta_{ij}=0$；即$\\forall i>j, (\\Delta^T)_{ij}=0$，而$\\forall i=j, (\\Delta)^T_{ij}=\\Delta_{ji}=1$，所以综上，$A^{-1}$是一个对角元全为1的上三角矩阵  \n",
    "我们将$\\begin{pmatrix} A, E \\end{pmatrix}$同时进行初等行变换将$A$变为单位矩阵$E$,则由$A$的特殊形式可以很容易得到$A^{-1}=\\begin{pmatrix}\n",
    "1\\ 1\\ 2\\ 4\\ \\cdots\\ 2^{n-3}\\ 2^{n-2} \\\\\n",
    "0\\ 1\\ 1\\ 2\\ \\cdots\\ 2^{n-4}\\ 2^{n-3} \\\\\n",
    "0\\ 0\\ 1\\ 1\\ \\cdots\\ 2^{n-5}\\ 2^{n-4} \\\\\n",
    "\\vdots\\ \\ \\ \\ \\ \\  \\ \\   \\ddots\\ \\ \\ \\ \\ \\ \\ \\ \\ \\ \\vdots\\ \\ \\ \\\\\n",
    "0\\ 0\\ 0\\ 0\\ \\cdots\\ \\ \\ 1\\ \\ \\ \\ 1\\ \\ \\ \\ \\\\\n",
    "0\\ 0\\ 0\\ 0\\ \\cdots\\ \\ \\ 0\\ \\ \\ \\ 1\\ \\ \\ \\ \\\\\n",
    "\\end{pmatrix}$"
   ]
  },
  {
   "cell_type": "markdown",
   "id": "c6c9cb05-c4fa-4c09-bef4-1f8e90315ae7",
   "metadata": {},
   "source": [
    "### （c）如果采用矩阵p模的定义"
   ]
  },
  {
   "cell_type": "markdown",
   "id": "5f924ab2-de29-4b8f-8e5e-43d9c0c63a2b",
   "metadata": {},
   "source": [
    "令$A=\\begin{pmatrix} a_1 \\\\ a_2 \\\\ \\cdots \\\\ a_n \\end{pmatrix},\\ x=\\begin{pmatrix} x_1 \\\\ x_2 \\\\ \\cdots \\\\ x_n \\end{pmatrix}$，则$\\left\\| A\\right\\|_{\\infty}\n",
    "=\\max \\limits_{\\left\\|x\\right\\|_{\\infty}\\ =1} \\left\\|Ax\\right\\|_{\\infty}\n",
    "=\\max\\limits_{\\left\\|x\\right\\|_{\\infty}\\ =1} \\left\\| \\begin{pmatrix} a_1 \\\\ a_2 \\\\ \\cdots \\\\ a_n \\end{pmatrix}x\\right\\|_{\\infty} \n",
    "= \\max\\limits_{\\left\\|x\\right\\|_{\\infty}\\ =1} \\left\\| \\begin{pmatrix} a_1 x \\\\ a_2 x \\\\ \\cdots \\\\ a_n x \\end{pmatrix}\\right\\|_{\\infty} \n",
    "= \\max\\limits_{\\left\\|x\\right\\|_{\\infty}\\ =1} \\left(\\max \\limits_i |a_i x|\\right)\n",
    "=\\max\\limits_{\\left\\|x\\right\\|_{\\infty}\\ =1}\\max\\limits_i\\left|\\sum\\limits_{j=1}^n a_{ij}x_j\\right|\n",
    "\\leq\\max\\limits_{\\left\\|x\\right\\|_{\\infty}\\ =1}\\max\\limits_i\\sum\\limits_{j=1}^n \\left|a_{ij}x_j\\right|\n",
    "=\\max\\limits_{\\left\\|x\\right\\|_{\\infty}\\ =1}\\max\\limits_i\\sum\\limits_{j=1}^n \\left(\\left|a_{ij}\\right|\\cdot\\max\\limits_l\\left|x_l\\right|\\right)\n",
    "\\leq\\max\\limits_{\\left\\|x\\right\\|_{\\infty}\\ =1}\\max\\limits_i\\sum\\limits_{j=1}^n \\left(\\left|a_{ij}\\right|\\cdot\\left\\|x\\right\\|_{\\infty}\\right)\n",
    "=\\max\\limits_i\\sum\\limits_{j=1}^n \\left|a_{ij}\\right|\n",
    "=\\max\\limits_i\\left\\|a_i\\right\\|_1\n",
    "=\\left\\| a_k \\right\\|_1$\n",
    "接下来我们取$y=\\begin{pmatrix} \\frac{\\left|a_{k1}\\right|}{a_{k1}} \\\\ \\frac{\\left|a_{k2}\\right|}{a_{k2}} \\\\ \\cdots \\\\ \\frac{\\left|a_{kn}\\right|}{a_{kn}} \\end{pmatrix}$，则有$a_k\\cdot y=\\left|a_{k1}\\right|+\\left|a_{k2}\\right|+\\cdots+\\left|a_{kn}\\right|=\\left\\|a_k\\right\\|_1$  \n",
    "这样就有\n",
    "$\\left\\| A\\right\\|_{\\infty}\n",
    "=\\max \\limits_{\\left\\|x\\right\\|_{\\infty}\\ =1} \\left\\|Ax\\right\\|_{\\infty}\n",
    "=\\max\\limits_{\\left\\|x\\right\\|_{\\infty}\\ =1} \\left\\| \\begin{pmatrix} a_1 \\\\ a_2 \\\\ \\cdots \\\\ a_n \\end{pmatrix}x\\right\\|_{\\infty} \n",
    "\\geq\\left\\|\\begin{pmatrix} a_1 \\\\ a_2 \\\\ \\cdots \\\\ a_n \\end{pmatrix}y\\right\\|_{\\infty}\n",
    "=\\left\\|\\begin{pmatrix} a_1 y \\\\ a_2 y \\\\ \\cdots \\\\ a_n y \\end{pmatrix}\\right\\|_{\\infty}\n",
    "\\geq\\left|a_k y\\right|\n",
    "=\\left\\|a_k\\right\\|_1\n",
    "=\\max\\limits_i\\left\\|a_i\\right\\|_1$  \n",
    "综上有$\\left\\| A\\right\\|_{\\infty}=\\max\\limits_i\\left\\|a_i\\right\\|_1=\\max\\limits_{i=1,\\cdots,n}\\sum\\limits_{j=1}^n \\left|a_{ij}\\right|$"
   ]
  },
  {
   "cell_type": "markdown",
   "id": "7bca1113-8044-473e-941f-6515260fc58b",
   "metadata": {},
   "source": [
    "### （d）证明"
   ]
  },
  {
   "cell_type": "markdown",
   "id": "9840fb0b-0568-48f3-8856-52a3d2baae5d",
   "metadata": {},
   "source": [
    "对于幺正矩阵U,我们有$\\left\\|U\\right\\|_2\n",
    "=\\max\\limits_{\\left\\|x\\right\\|_2\\ = 1}\\left\\|Ux\\right\\|_2\n",
    "=\\max\\limits_{\\left\\|x\\right\\|_2\\ = 1}\\left(x^{\\dagger}U^{\\dagger}Ux\\right)^{1/2}\n",
    "=\\max\\limits_{\\left\\|x\\right\\|_2\\ = 1}\\left(x^{\\dagger}x\\right)^{1/2}=1$  \n",
    "同理有对于$U^{\\dagger}$有$\\left\\|U^{\\dagger}\\right\\|_2\n",
    "=\\max\\limits_{\\left\\|x\\right\\|_2\\ = 1}\\left\\|U^{\\dagger}x\\right\\|_2\n",
    "=\\max\\limits_{\\left\\|x\\right\\|_2\\ = 1}\\left(x^{\\dagger}UU^{\\dagger}x\\right)^{1/2}\n",
    "=\\max\\limits_{\\left\\|x\\right\\|_2\\ = 1}\\left(x^{\\dagger}x\\right)^{1/2}=1$  \n",
    "则有$\\forall A\\in \\mathbb{C}^{n\\times n}$有$\\left\\|UA\\right\\|_2\n",
    "=\\max\\limits_{\\left\\|x\\right\\|_2\\ = 1}\\left\\|UAx\\right\\|_2\n",
    "=\\max\\limits_{\\left\\|x\\right\\|_2\\ = 1}\\left(x^{\\dagger}A^{\\dagger}U^{\\dagger}UAx\\right)^{1/2}\n",
    "=\\max\\limits_{\\left\\|x\\right\\|_2\\ = 1}\\left(x^{\\dagger}A^{\\dagger}Ax\\right)^{1/2}\n",
    "=\\max\\limits_{\\left\\|x\\right\\|_2\\ = 1}\\left\\|Ax\\right\\|_2\n",
    "=\\left\\|A\\right\\|_2$   \n",
    "并且$\\forall B \\in \\mathbb{C}^{n\\times n}$有$\\left\\|BU^{\\dagger}\\right\\|_2 \n",
    "\\leq\\left\\|B\\right\\|_2 \\cdot\\left\\|U^{\\dagger}\\right\\|_2\n",
    "=\\left\\|B\\right\\|_2$而且$\\left\\|B\\right\\|_2\n",
    "=\\left\\|BU^{\\dagger}U\\right\\|_2\n",
    "\\leq\\left\\|BU^{\\dagger}\\right\\|_2 \\cdot\\left\\|U\\right\\|_2\n",
    "=\\left\\|BU^{\\dagger}\\right\\|_2 $, 所以$\\left\\|BU^{\\dagger}\\right\\|_2=\\left\\|B\\right\\|_2$  \n",
    "这样定义的条件数满足$K_2(UA)=\\left\\|UA\\right\\|_2 \\cdot\\left\\|A^{-1}U^{\\dagger}\\right\\|_2 =\\left\\|A\\right\\|_2 \\cdot\\left\\|A^{-1}\\right\\|_2 =K_2(A)$"
   ]
  },
  {
   "cell_type": "markdown",
   "id": "906f61a2-7588-4126-9b03-b0f921593e10",
   "metadata": {},
   "source": [
    "### （e）"
   ]
  },
  {
   "cell_type": "markdown",
   "id": "c4abb1bf-fcca-440a-9a38-2e62d7ab1d86",
   "metadata": {},
   "source": [
    "由(c)知,此处$\\left\\|A\\right\\|_{\\infty}=\\max\\limits_{i=1,\\cdots,n}\\sum\\limits_{j=1}^n \\left|a_{ij}\\right|=n, \\left\\|A^{-1}\\right\\|_{\\infty}=\\max\\limits_{i=1,\\cdots,n}\\sum\\limits_{j=1}^n \\left|a^{\\prime}_{ij}\\right|=2^{n-1}$  \n",
    "故$K_{\\infty}(A)=\\left\\|A\\right\\|_{\\infty}\\cdot\\left\\|A^{-1}\\right\\|_{\\infty}=n\\cdot 2^{n-1}$"
   ]
  },
  {
   "cell_type": "markdown",
   "id": "c1773b33-0e1d-4986-9d66-cad12c6c68a0",
   "metadata": {
    "tags": []
   },
   "source": [
    "# 3. \n",
    "### (a)"
   ]
  },
  {
   "cell_type": "markdown",
   "id": "50430688-186e-4bf7-af7d-a6907c03b9a5",
   "metadata": {},
   "source": [
    "$\\frac{\\partial D}{\\partial c_i}=\\int_0^1{2x^{i-1}\\left(\\sum\\limits_{j=1}^n c_j x^{j-1} - f(x)\\right)dx}=0$  \n",
    "$(H_n)_{ij}=\\frac{2}{i+j-1}, b_i = \\int_0^1 2x^{i-1}f(x)dx$  \n",
    "$\\sum\\limits_{j=1}^n(H_n)_{ij}c_j=b_i,\\ i,j=1,\\cdots,n$"
   ]
  },
  {
   "cell_type": "markdown",
   "id": "593cd29f-f860-4441-8be6-d12ab3b90740",
   "metadata": {
    "tags": []
   },
   "source": [
    "### (b)"
   ]
  },
  {
   "cell_type": "markdown",
   "id": "5884ba20-338a-487e-8538-1e5ec143655d",
   "metadata": {},
   "source": [
    "$(H_n)_{ij}=(H_n)_{ji}=\\frac{2}{i+j-1}$  \n",
    "$\\forall c \\in \\mathbb{R}^{n\\times n}, c=\\begin{pmatrix} c_1 \\\\ c_2 \\\\ \\cdots \\\\ c_n \\end{pmatrix}, c^T H_n c=\\sum\\limits_{i=1}^n\\sum\\limits_{j=1}^n\\frac{c_i c_j}{i+j-1}=\\sum\\limits_{i=1}^n\\sum\\limits_{j=1}^n c_i c_j \\int_0^1 x^{i+j-2}dx=\\int_0^1\\left(\\sum\\limits_{i=1}^n c_i x^{i-1}\\right)^{2}dx\\geq 0$, 仅当$c=0$时取等号  \n",
    "综上，$H_n$是对称的正定矩阵，根据课件中提到定理，$\\exists$非奇异矩阵$A\\in \\mathbb{R}^{n\\times n}$使得$H_n=A^{\\dagger}A$，则也有$|H_n|=|A^{\\dagger}|\\cdot|A|>0$，非奇异得证"
   ]
  },
  {
   "cell_type": "markdown",
   "id": "6b2762cf-feea-4015-ad7a-09ef5d0752c8",
   "metadata": {},
   "source": [
    "### (c)"
   ]
  },
  {
   "cell_type": "markdown",
   "id": "e37845d9-1814-4bcf-9a08-d61da7568daa",
   "metadata": {},
   "source": [
    "$c_n=1!\\cdot 2!\\cdots (n-1)!$  \n",
    "$\\ln{det(H_n)}=4\\ln{c_n}-\\ln{c_{2n}}\n",
    "=3\\sum\\limits_{i=1}^{n-1}\\ln(i!)-\\sum\\limits_{i=n}^{2n-1}\\ln(i!)\n",
    "=3\\sum\\limits_{i=1}^{n-1}\\left[(n-i)\\ln{i}\\right]-n\\ln{(n-1)!}-\\sum\\limits_{i=n}^{2n-1}\\left[(2n-i)\\ln{i}\\right]\n",
    "=\\sum\\limits_{i=1}^{n-1}\\left[(2n-3i)\\ln{i}\\right]-\\sum\\limits_{i=n}^{2n-1}\\left[(2n-i)\\ln{i}\\right]$  \n",
    "根据Stirling's approximation, 当$n >> 1$时, $n!\\approx \\sqrt{2\\pi n} \\left(\\frac{n}{e}\\right)^n$, $\\ln{det(H_n)}=4\\ln{c_n}-\\ln{c_{2n}}\n",
    "=3\\sum\\limits_{i=1}^{n-1}\\ln(i!)-\\sum\\limits_{i=n}^{2n-1}\\ln(i!)\n",
    "\\approx 3\\sum\\limits_{i=1}^{n-1}\\left[\\left(i + \\frac{1}{2}\\right)\\ln{i}-i+\\frac{\\ln{2\\pi}}{2}\\right]-\\sum\\limits_{i=n}^{2n-1}\\left[\\left(i + \\frac{1}{2}\\right)\\ln{i}-i+\\frac{\\ln{2\\pi}}{2}\\right]$"
   ]
  },
  {
   "cell_type": "code",
   "execution_count": 52,
   "id": "f77f7808-fbf9-4d30-8244-ad6dd56789e1",
   "metadata": {},
   "outputs": [
    {
     "name": "stdout",
     "output_type": "stream",
     "text": [
      "det(H_1) = 1\n",
      "det(H_2) = 0.0833333\n",
      "det(H_3) = 0.000462963\n",
      "det(H_4) = 1.65344e-07\n",
      "det(H_5) = 3.7493e-12\n",
      "det(H_6) = 5.3673e-18\n",
      "det(H_7) = 4.8358e-25\n",
      "det(H_8) = 2.73705e-33\n",
      "det(H_9) = 9.72023e-43\n",
      "det(H_10) = 2.16418e-53\n"
     ]
    }
   ],
   "source": [
    "from numpy import log\n",
    "from numpy import exp\n",
    "\n",
    "for n in range(1,11):\n",
    "    lnHn=0\n",
    "    Hn=0\n",
    "    for i in range(1,2*n):\n",
    "        if(i<n):\n",
    "            an = (2*n - 3*i)*log(i)\n",
    "        else:\n",
    "            an = -(2*n - i)*log(i)\n",
    "        \n",
    "        lnHn = lnHn + an\n",
    "        Hn = exp(lnHn)\n",
    "    print(\"det(H_%d) = %g\"%(n,Hn))"
   ]
  },
  {
   "cell_type": "markdown",
   "id": "6da6daf0-f722-4d30-827b-96e617d6d4c1",
   "metadata": {},
   "source": [
    "### (d)\n",
    "### GEM"
   ]
  },
  {
   "cell_type": "code",
   "execution_count": 49,
   "id": "4eddc74f-c3e8-4fb7-926b-6ae5421d506c",
   "metadata": {},
   "outputs": [
    {
     "name": "stdout",
     "output_type": "stream",
     "text": [
      "When n=1, the solution x is\n",
      "[0.5]\n",
      "\n",
      "When n=2, the solution x is\n",
      "[-1.0, 3.0]\n",
      "\n",
      "When n=3, the solution x is\n",
      "[1.5, -12.0, 15.0]\n",
      "\n",
      "When n=4, the solution x is\n",
      "[-2.0, 30.0, -90.0, 70.0]\n",
      "\n",
      "When n=5, the solution x is\n",
      "[2.5, -60.0, 315.0, -560.0, 315.0]\n",
      "\n",
      "When n=6, the solution x is\n",
      "[-3.0, 105.0, -840.0, 2520.0, -3150.0, 1386.0]\n",
      "\n",
      "When n=7, the solution x is\n",
      "[3.5, -168.0, 1890.0, -8400.0, 17325.0, -16632.0, 6006.0]\n",
      "\n",
      "When n=8, the solution x is\n",
      "[-4.0, 252.0, -3780.0, 23100.0, -69300.0, 108108.0, -84084.0, 25740.0]\n",
      "\n",
      "When n=9, the solution x is\n",
      "[4.5, -360.0, 6929.98, -55439.83, 225224.35, -504502.67, 630628.46, -411839.06, 109394.77]\n",
      "\n",
      "When n=10, the solution x is\n",
      "[-5.0, 494.93, -11878.5, 120106.35, -630564.86, 1891710.83, -3363065.89, 3500355.66, -1968960.67, 461857.15]\n",
      "\n"
     ]
    }
   ],
   "source": [
    "def GEM(H,b):\n",
    "    n=len(b)\n",
    "    for index in range(0, n): \n",
    "    ## i means the row in matrix (begening at 1) while index means the index in array (begening at 0)\n",
    "    ## So I write 'index' in complete for distinguishment and also 'jndex'\n",
    "        temp = H[index][index]\n",
    "        if temp == 0:\n",
    "            break\n",
    "            print(\"ERROR!!!\")\n",
    "            \n",
    "        for jndex in range(index, n):\n",
    "            H[index][jndex] *= 1/temp\n",
    "        b[index] *= 1/temp\n",
    "        ## normalized the row of H[index] and b[index]\n",
    "        \n",
    "        for index1 in range(index+1, n):\n",
    "            if index1 == index:\n",
    "                continue\n",
    "            temp1 = H[index1][index]\n",
    "            k=H[index1][index]/H[index][index]\n",
    "            \n",
    "            for jndex1 in range(index, n):\n",
    "                H[index1][jndex1] -= H[index][jndex1]*k\n",
    "            b[index1] -= b[index]*k\n",
    "            \n",
    "    return H,b\n",
    "    ## having transformed H into an upper triangle matrix\n",
    "\n",
    "def back_substitution(H,b):\n",
    "    x=[0 for i in range(len(b))]\n",
    "    \n",
    "    for index in range(n-1,-1,-1):\n",
    "        if H[index][index]==0:\n",
    "            print(\"ERROR!!!\")\n",
    "        x[index]=b[index]\n",
    "        \n",
    "        for jndex in range(n-1, index, -1):\n",
    "            x[index] -= H[index][jndex]*x[jndex]\n",
    "        x[index]/=H[index][index]\n",
    "    \n",
    "    return x\n",
    "    \n",
    "    \n",
    "for n in range(1,11):\n",
    "    H=[[2/(i+j-1) for i in range(1,n+1)] for j in range(1,n+1)]\n",
    "    b=[1 for i in range(1, n+1)]\n",
    "    H,b=GEM(H,b)\n",
    "    x=back_substitution(H,b)\n",
    "    \n",
    "    \n",
    "    for i in range(n):\n",
    "        x[i]=round(x[i],2)\n",
    "        \n",
    "    print(\"When n=%d, the solution x is\"%n)\n",
    "    print(x)\n",
    "    print(\"\")"
   ]
  },
  {
   "cell_type": "markdown",
   "id": "5aa2435b-cbaf-43a1-9d59-37c95e025edb",
   "metadata": {},
   "source": [
    "### Cholesky"
   ]
  },
  {
   "cell_type": "code",
   "execution_count": 51,
   "id": "c214f6db-6d0f-4c9d-abf2-c771a5feae03",
   "metadata": {},
   "outputs": [
    {
     "name": "stdout",
     "output_type": "stream",
     "text": [
      "When n=1, the solution x is\n",
      "[0.5]\n",
      "\n",
      "\n",
      "When n=2, the solution x is\n",
      "[-1.0, 3.0]\n",
      "\n",
      "\n",
      "When n=3, the solution x is\n",
      "[1.5, -12.0, 15.0]\n",
      "\n",
      "\n",
      "When n=4, the solution x is\n",
      "[-2.0, 30.0, -90.0, 70.0]\n",
      "\n",
      "\n",
      "When n=5, the solution x is\n",
      "[2.5, -60.0, 315.0, -560.0, 315.0]\n",
      "\n",
      "\n",
      "When n=6, the solution x is\n",
      "[-3.0, 105.0, -840.0, 2520.0, -3150.0, 1386.0]\n",
      "\n",
      "\n",
      "When n=7, the solution x is\n",
      "[3.5, -168.0, 1890.0, -8400.0, 17325.0, -16632.0, 6006.0]\n",
      "\n",
      "\n",
      "When n=8, the solution x is\n",
      "[-4.0, 252.0, -3780.0, 23100.0, -69300.0, 108108.0, -84084.0, 25740.0]\n",
      "\n",
      "\n",
      "When n=9, the solution x is\n",
      "[4.5, -360.0, 6929.97, -55439.8, 225224.28, -504502.52, 630628.29, -411838.96, 109394.74]\n",
      "\n",
      "\n",
      "When n=10, the solution x is\n",
      "[-5.0, 494.94, -11878.72, 120108.41, -630574.89, 1891738.93, -3363112.74, 3500401.56, -1968985.06, 461862.57]\n",
      "\n",
      "\n"
     ]
    }
   ],
   "source": [
    "from numpy import sqrt\n",
    "\n",
    "def Cholesky(A):\n",
    "    n=len(A)\n",
    "    H=[[0 for i in range(n)] for j in range(n)]\n",
    "    for jndex in range(0,n):\n",
    "        for kndex in range(0,jndex,1):\n",
    "            A[jndex][jndex] -= A[jndex][kndex]**2\n",
    "        \n",
    "        A[jndex][jndex]=sqrt(A[jndex][jndex])\n",
    "        H[jndex][jndex]=A[jndex][jndex]\n",
    "        \n",
    "        for index in range(jndex+1, n):\n",
    "            for kndex in range(0,jndex,1):\n",
    "                A[index][jndex] -= A[index][kndex]*A[jndex][kndex]\n",
    "                \n",
    "            A[index][jndex] /= A[jndex][jndex]\n",
    "            H[jndex][index]=A[index][jndex]\n",
    "            \n",
    "    return H\n",
    "    ## H is upper left triangle matrix, and A=H^{\\dagger}H\n",
    "\n",
    "def back_substitution(H,b):\n",
    "    x=[0 for i in range(len(b))]\n",
    "    \n",
    "    for index in range(n-1,-1,-1):\n",
    "        if H[index][index]==0:\n",
    "            print(\"ERROR!!!\")\n",
    "        x[index]=b[index]\n",
    "        \n",
    "        for jndex in range(n-1, index, -1):\n",
    "            x[index] -= H[index][jndex]*x[jndex]\n",
    "        x[index]/=H[index][index]\n",
    "    \n",
    "    return x\n",
    "\n",
    "def forward_substitution(H,b):\n",
    "    x=[0 for i in range(len(b))]\n",
    "    \n",
    "    for index in range(0,n):\n",
    "        if H[index][index]==0:\n",
    "            print(\"ERROR!!!\")\n",
    "        x[index]=b[index]\n",
    "        \n",
    "        for jndex in range(0,index):\n",
    "            x[index] -= H[index][jndex]*x[jndex]\n",
    "            \n",
    "        x[index]/=H[index][index]\n",
    "    \n",
    "    return x\n",
    "\n",
    "for n in range(1,11):\n",
    "    H=[[2/(i+j-1) for i in range(1,n+1)] for j in range(1,n+1)]\n",
    "    b=[1 for i in range(1, n+1)]\n",
    "    H=Cholesky(H)\n",
    "    H_dagger=[[H[j][i] for j in range(n)] for i in range(n)]\n",
    "    y=forward_substitution(H_dagger,b)\n",
    "    x=back_substitution(H,y)\n",
    "    for i in range(n):\n",
    "        x[i]=round(x[i],2)\n",
    "        \n",
    "    print(\"When n=%d, the solution x is\"%n)\n",
    "    print(x)\n",
    "    print(\"\\n\")"
   ]
  },
  {
   "cell_type": "code",
   "execution_count": null,
   "id": "77685904-70e6-4ce7-87c3-28767ce08607",
   "metadata": {},
   "outputs": [],
   "source": []
  }
 ],
 "metadata": {
  "kernelspec": {
   "display_name": "Python 3 (ipykernel)",
   "language": "python",
   "name": "python3"
  },
  "language_info": {
   "codemirror_mode": {
    "name": "ipython",
    "version": 3
   },
   "file_extension": ".py",
   "mimetype": "text/x-python",
   "name": "python",
   "nbconvert_exporter": "python",
   "pygments_lexer": "ipython3",
   "version": "3.8.12"
  }
 },
 "nbformat": 4,
 "nbformat_minor": 5
}
