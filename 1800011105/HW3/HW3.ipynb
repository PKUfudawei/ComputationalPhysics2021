{
 "cells": [
  {
   "cell_type": "markdown",
   "id": "18d9c208-763a-49f4-8c5f-6fc30f7e9724",
   "metadata": {},
   "source": [
    "# 1. 数值积分"
   ]
  },
  {
   "cell_type": "code",
   "execution_count": 1,
   "id": "bb6f1067-9597-4d22-b74f-85e07cf12def",
   "metadata": {},
   "outputs": [],
   "source": [
    "from numpy import exp\n",
    "\n",
    "def f(x):\n",
    "    return exp(-x)/x"
   ]
  },
  {
   "cell_type": "markdown",
   "id": "4c2f51cc-7585-411b-8c9c-9faa9ec33f81",
   "metadata": {},
   "source": [
    "## Trapezoidal Rule"
   ]
  },
  {
   "cell_type": "code",
   "execution_count": 2,
   "id": "f41aa606-d653-489e-a95d-8da1461e2710",
   "metadata": {},
   "outputs": [
    {
     "name": "stdout",
     "output_type": "stream",
     "text": [
      "When the number of grid points is 10, the integral's numerical result is 2.023343\n",
      "When the number of grid points is 100, the integral's numerical result is 0.274735\n",
      "When the number of grid points is 1000, the integral's numerical result is 0.219985\n"
     ]
    }
   ],
   "source": [
    "def Trapezoidal(N,a,b):   # x \\in [a,b] with N nodes\n",
    "    h=(b-a)/(N-1)\n",
    "    x=[a+h*i for i in range(N)]\n",
    "    fx=[f(x[i]) for i in range(N)]\n",
    "    I = -fx[0]/2 - fx[N-1]/2\n",
    "    for i in range(N):  # N grid points\n",
    "        I += fx[i]\n",
    "    \n",
    "    I *= h\n",
    "    return I\n",
    "\n",
    "\n",
    "for n in [10,100,1000]:\n",
    "    print(\"When the number of grid points is %d, the integral's numerical result is %f\"%(n, Trapezoidal(n,1,100)))"
   ]
  },
  {
   "cell_type": "markdown",
   "id": "d95545ce-a73e-400f-a42e-e63590300a3b",
   "metadata": {},
   "source": [
    "## Simpson Rule"
   ]
  },
  {
   "cell_type": "code",
   "execution_count": 3,
   "id": "8015c5e1-fed0-4d18-8aa3-50cfe7b2338f",
   "metadata": {},
   "outputs": [
    {
     "name": "stdout",
     "output_type": "stream",
     "text": [
      "When the number of grid points is 10, the integral's numerical result is 0.676144\n",
      "When the number of grid points is 100, the integral's numerical result is 0.220757\n",
      "When the number of grid points is 1000, the integral's numerical result is 0.219384\n"
     ]
    }
   ],
   "source": [
    "def Simpson(N, a, b): # x \\in [a,b] with N nodes\n",
    "    d=(b-a)/(N-1)\n",
    "    h=d/2\n",
    "    x=[a + d*i for i in range(N)]\n",
    "    fx=[f(x[i]) for i in range(N)]\n",
    "    I=0\n",
    "    for i in range(N-1): # N intervals\n",
    "        I += h*(fx[i] + 4*f((x[i]+x[i+1])/2) + fx[i+1])/3\n",
    "        \n",
    "    return I\n",
    "\n",
    "\n",
    "for n in [10,100,1000]:\n",
    "    print(\"When the number of grid points is %d, the integral's numerical result is %f\"%(n, Simpson(n,1,100)))"
   ]
  },
  {
   "cell_type": "markdown",
   "id": "b8c41403-2f77-40d4-b0bc-c392a08eaf64",
   "metadata": {},
   "source": [
    "## Gauss-Legendre"
   ]
  },
  {
   "cell_type": "code",
   "execution_count": 4,
   "id": "54b27752-ef96-450f-8d83-894f21aad0a0",
   "metadata": {},
   "outputs": [
    {
     "name": "stdout",
     "output_type": "stream",
     "text": [
      "When the number of grid points is 10, the integral's numerical result is 0.146045\n",
      "When the number of grid points is 100, the integral's numerical result is 0.219384\n"
     ]
    }
   ],
   "source": [
    "import numpy.polynomial.legendre as leg\n",
    "\n",
    "def Gauss_Legendre(N,a,b): # x \\in [a,b] with N-order Legendre polynomial\n",
    "    xi, wi=leg.leggauss(N)\n",
    "    I = 0\n",
    "    for j in range(N):\n",
    "        I += wi[j]*f(xi[j]*(b-a)/2 + (a+b)/2)\n",
    "    \n",
    "    I *= (b-a)/2\n",
    "    \n",
    "    return I\n",
    "\n",
    "for n in [10,100]:\n",
    "    print(\"When the number of grid points is %d, the integral's numerical result is %f\"%(n, Gauss_Legendre(n,1,100)))"
   ]
  },
  {
   "cell_type": "markdown",
   "id": "e73cb839-a04b-4ead-9ce5-2ab231685e42",
   "metadata": {},
   "source": [
    "# 2. 方程求根"
   ]
  },
  {
   "cell_type": "markdown",
   "id": "07146228-6f0b-42b7-89f7-c5a9c0572b17",
   "metadata": {},
   "source": [
    "## (a)"
   ]
  },
  {
   "cell_type": "code",
   "execution_count": 5,
   "id": "db61ed8d-e356-47ca-9c76-9ec0d13c9865",
   "metadata": {},
   "outputs": [],
   "source": [
    "from numpy import sin\n",
    "from numpy import cos\n",
    "from numpy import sign\n",
    "\n",
    "def f(x):\n",
    "    return (x - 2*sin(x))\n",
    "\n",
    "def fprime(x):\n",
    "    return (1 - 2*cos(x))\n",
    "\n",
    "epsilon = 1e-5"
   ]
  },
  {
   "cell_type": "markdown",
   "id": "d0eaad96-b7f1-4a5d-9292-60295895003c",
   "metadata": {},
   "source": [
    "### 二分法"
   ]
  },
  {
   "cell_type": "code",
   "execution_count": 6,
   "id": "460536ed-8a2c-4209-91d8-550b911a0d57",
   "metadata": {},
   "outputs": [
    {
     "name": "stdout",
     "output_type": "stream",
     "text": [
      "No.1 iteration: [a,b]=[1.750000,2.000000]\n",
      "No.2 iteration: [a,b]=[1.875000,2.000000]\n",
      "No.3 iteration: [a,b]=[1.875000,1.937500]\n",
      "No.4 iteration: [a,b]=[1.875000,1.906250]\n",
      "No.5 iteration: [a,b]=[1.890625,1.906250]\n",
      "No.6 iteration: [a,b]=[1.890625,1.898438]\n",
      "No.7 iteration: [a,b]=[1.894531,1.898438]\n",
      "No.8 iteration: [a,b]=[1.894531,1.896484]\n",
      "No.9 iteration: [a,b]=[1.894531,1.895508]\n",
      "No.10 iteration: [a,b]=[1.895020,1.895508]\n",
      "No.11 iteration: [a,b]=[1.895264,1.895508]\n",
      "No.12 iteration: [a,b]=[1.895386,1.895508]\n",
      "No.13 iteration: [a,b]=[1.895447,1.895508]\n",
      "No.14 iteration: [a,b]=[1.895477,1.895508]\n",
      "No.15 iteration: [a,b]=[1.895493,1.895508]\n",
      "No.16 iteration: [a,b]=[1.895493,1.895500]\n",
      "The root of x - 2sin(x)=0 is 1.895496\n"
     ]
    }
   ],
   "source": [
    "def dichotomy(a,b):\n",
    "    i=0\n",
    "    while (b-a>epsilon):\n",
    "        x = (b+a)/2\n",
    "        if sign(f(x))==sign(f(a)):\n",
    "            a=x\n",
    "        else: b=x\n",
    "        i += 1\n",
    "        print(\"No.%d iteration: [a,b]=[%f,%f]\"%(i,a,b))\n",
    "    \n",
    "    x =(a+b)/2    \n",
    "    return x\n",
    "\n",
    "print(r\"The root of x - 2sin(x)=0 is %f\"%(dichotomy(1.5,2)))"
   ]
  },
  {
   "cell_type": "markdown",
   "id": "8674dd23-2c40-4b91-bc39-cf1cc597b616",
   "metadata": {},
   "source": [
    "### 牛顿法"
   ]
  },
  {
   "cell_type": "code",
   "execution_count": 7,
   "id": "44fa0563-61a6-41b9-a6d2-f8ddc00face5",
   "metadata": {},
   "outputs": [
    {
     "name": "stdout",
     "output_type": "stream",
     "text": [
      "No.1 iteration: x1=2.076558\n",
      "No.2 iteration: x2=1.910507\n",
      "No.3 iteration: x3=1.895622\n",
      "No.4 iteration: x4=1.895494\n",
      "No.5 iteration: x5=1.895494\n",
      "The root of x - 2sin(x)=0 is 1.895494\n"
     ]
    }
   ],
   "source": [
    "def newton(x0):\n",
    "    x=[x0]\n",
    "    k=0\n",
    "    while abs(f(x[k]))>epsilon or abs(x[k] - x[k-1])>epsilon:\n",
    "        x.append(x[k] - f(x[k])/fprime(x[k]))\n",
    "        k=k+1\n",
    "        print(\"No.%d iteration: x%d=%f\"%(k,k,x[k]))\n",
    "        \n",
    "    return x[k]\n",
    "\n",
    "\n",
    "print(r\"The root of x - 2sin(x)=0 is %f\"%(newton(1.5)))"
   ]
  },
  {
   "cell_type": "markdown",
   "id": "91ade93f-0ba3-482a-be8e-3a12afd7b878",
   "metadata": {},
   "source": [
    "### 割线法"
   ]
  },
  {
   "cell_type": "code",
   "execution_count": 8,
   "id": "153029a7-fc17-4c3f-906a-0b869db092f7",
   "metadata": {},
   "outputs": [
    {
     "name": "stdout",
     "output_type": "stream",
     "text": [
      "No.1 iteration: x1=2.076558\n",
      "No.2 iteration: x2=1.847217\n",
      "No.3 iteration: x3=1.890869\n",
      "No.4 iteration: x4=1.895628\n",
      "No.5 iteration: x5=1.895494\n",
      "No.6 iteration: x6=1.895494\n",
      "The root of x - 2sin(x)=0 is 1.895494\n"
     ]
    }
   ],
   "source": [
    "def secant(x0,x1):\n",
    "    x=[x0,x1]\n",
    "    k=1\n",
    "    print(\"No.%d iteration: x%d=%f\"%(k,k,x[k]))\n",
    "    while abs(f(x[k]))>epsilon or abs(x[k] - x[k-1])>epsilon:\n",
    "        x.append(x[k] - f(x[k])*(x[k]-x[k-1])/(f(x[k])-f(x[k-1])))\n",
    "        k=k+1\n",
    "        print(\"No.%d iteration: x%d=%f\"%(k,k,x[k]))\n",
    "        \n",
    "    return x[k]\n",
    "\n",
    "\n",
    "print(r\"The root of x - 2sin(x)=0 is %f\"%(secant(1.5,2.076558)))"
   ]
  },
  {
   "cell_type": "markdown",
   "id": "3920b5c1-8ef6-494e-8b4d-9dd2f6700951",
   "metadata": {},
   "source": [
    "## (b)"
   ]
  },
  {
   "cell_type": "code",
   "execution_count": 9,
   "id": "a993c302-10aa-4617-9239-0423e1d71ef3",
   "metadata": {},
   "outputs": [],
   "source": [
    "from numpy import sin\n",
    "from numpy import cos\n",
    "from numpy import sign\n",
    "\n",
    "def f(x):\n",
    "    y = x*x - 4*x*sin(x) + (2*sin(x))**2\n",
    "    return y\n",
    "\n",
    "def fprime(x):\n",
    "    yprime = 2*x - 4*sin(x) - 4*x*cos(x) + 4*sin(x)*cos(x) ## is wrong\n",
    "    ## yprime = 2*x - 4*sin(x) - 4*x*cos(x) + 8*sin(x)*cos(x) is right\n",
    "    return yprime\n",
    "\n",
    "epsilon=1e-5"
   ]
  },
  {
   "cell_type": "markdown",
   "id": "0628055e-7665-4882-a814-cf862a1c57d4",
   "metadata": {},
   "source": [
    "### 二分法"
   ]
  },
  {
   "cell_type": "code",
   "execution_count": 10,
   "id": "6a4520f1-8480-47ae-a7d2-9c29b29e26e4",
   "metadata": {},
   "outputs": [
    {
     "name": "stdout",
     "output_type": "stream",
     "text": [
      "No.1 iteration: [a,b]=[1.750000,2.000000]\n",
      "No.2 iteration: [a,b]=[1.875000,2.000000]\n",
      "No.3 iteration: [a,b]=[1.937500,2.000000]\n",
      "No.4 iteration: [a,b]=[1.968750,2.000000]\n",
      "No.5 iteration: [a,b]=[1.984375,2.000000]\n",
      "No.6 iteration: [a,b]=[1.992188,2.000000]\n",
      "No.7 iteration: [a,b]=[1.996094,2.000000]\n",
      "No.8 iteration: [a,b]=[1.998047,2.000000]\n",
      "No.9 iteration: [a,b]=[1.999023,2.000000]\n",
      "No.10 iteration: [a,b]=[1.999512,2.000000]\n",
      "No.11 iteration: [a,b]=[1.999756,2.000000]\n",
      "No.12 iteration: [a,b]=[1.999878,2.000000]\n",
      "No.13 iteration: [a,b]=[1.999939,2.000000]\n",
      "No.14 iteration: [a,b]=[1.999969,2.000000]\n",
      "No.15 iteration: [a,b]=[1.999985,2.000000]\n",
      "No.16 iteration: [a,b]=[1.999992,2.000000]\n",
      "the root of x-2sin(x)=0 is 1.999996\n"
     ]
    }
   ],
   "source": [
    "def dichotomy(a,b):\n",
    "    i=0\n",
    "    while (b-a>epsilon):\n",
    "        x = (b+a)/2\n",
    "        if sign(f(x))==sign(f(a)):\n",
    "            a=x\n",
    "        else: b=x\n",
    "        i += 1\n",
    "        print(\"No.%d iteration: [a,b]=[%f,%f]\"%(i,a,b))\n",
    "    \n",
    "    x =(a+b)/2\n",
    "    return x\n",
    "\n",
    "print(r\"the root of x-2sin(x)=0 is %f\"%(dichotomy(1.5,2)))"
   ]
  },
  {
   "cell_type": "markdown",
   "id": "4f650351-e215-46f5-9644-bd95fdb4f822",
   "metadata": {},
   "source": [
    "### 牛顿法"
   ]
  },
  {
   "cell_type": "code",
   "execution_count": 11,
   "id": "e817027b-eb0b-4fa8-8611-93d980a8a131",
   "metadata": {},
   "outputs": [
    {
     "name": "stdout",
     "output_type": "stream",
     "text": [
      "No.1 iteration: x1=1.716413\n",
      "No.2 iteration: x2=2.385759\n",
      "No.3 iteration: x3=2.238376\n",
      "No.4 iteration: x4=2.148005\n",
      "No.5 iteration: x5=2.089425\n",
      "No.6 iteration: x6=2.049688\n",
      "No.7 iteration: x7=2.021656\n",
      "No.8 iteration: x8=2.001194\n",
      "No.9 iteration: x9=1.985805\n",
      "No.10 iteration: x10=1.973928\n",
      "No.11 iteration: x11=1.964553\n",
      "No.12 iteration: x12=1.957007\n",
      "No.13 iteration: x13=1.950829\n",
      "No.14 iteration: x14=1.945695\n",
      "No.15 iteration: x15=1.941373\n",
      "No.16 iteration: x16=1.937692\n",
      "No.17 iteration: x17=1.934524\n",
      "No.18 iteration: x18=1.931774\n",
      "No.19 iteration: x19=1.929366\n",
      "No.20 iteration: x20=1.927243\n",
      "No.21 iteration: x21=1.925358\n",
      "No.22 iteration: x22=1.923675\n",
      "No.23 iteration: x23=1.922163\n",
      "No.24 iteration: x24=1.920799\n",
      "No.25 iteration: x25=1.919562\n",
      "No.26 iteration: x26=1.918437\n",
      "No.27 iteration: x27=1.917408\n",
      "No.28 iteration: x28=1.916464\n",
      "No.29 iteration: x29=1.915596\n",
      "No.30 iteration: x30=1.914794\n",
      "No.31 iteration: x31=1.914052\n",
      "No.32 iteration: x32=1.913363\n",
      "No.33 iteration: x33=1.912722\n",
      "No.34 iteration: x34=1.912124\n",
      "No.35 iteration: x35=1.911566\n",
      "No.36 iteration: x36=1.911042\n",
      "No.37 iteration: x37=1.910551\n",
      "No.38 iteration: x38=1.910089\n",
      "No.39 iteration: x39=1.909654\n",
      "No.40 iteration: x40=1.909243\n",
      "No.41 iteration: x41=1.908855\n",
      "No.42 iteration: x42=1.908488\n",
      "No.43 iteration: x43=1.908140\n",
      "No.44 iteration: x44=1.907810\n",
      "No.45 iteration: x45=1.907496\n",
      "No.46 iteration: x46=1.907198\n",
      "No.47 iteration: x47=1.906914\n",
      "No.48 iteration: x48=1.906643\n",
      "No.49 iteration: x49=1.906384\n",
      "No.50 iteration: x50=1.906137\n",
      "No.51 iteration: x51=1.905900\n",
      "No.52 iteration: x52=1.905674\n",
      "No.53 iteration: x53=1.905457\n",
      "No.54 iteration: x54=1.905249\n",
      "No.55 iteration: x55=1.905049\n",
      "No.56 iteration: x56=1.904858\n",
      "No.57 iteration: x57=1.904673\n",
      "No.58 iteration: x58=1.904496\n",
      "No.59 iteration: x59=1.904325\n",
      "No.60 iteration: x60=1.904161\n",
      "No.61 iteration: x61=1.904002\n",
      "No.62 iteration: x62=1.903849\n",
      "No.63 iteration: x63=1.903702\n",
      "No.64 iteration: x64=1.903559\n",
      "No.65 iteration: x65=1.903422\n",
      "No.66 iteration: x66=1.903288\n",
      "No.67 iteration: x67=1.903159\n",
      "No.68 iteration: x68=1.903035\n",
      "No.69 iteration: x69=1.902914\n",
      "No.70 iteration: x70=1.902797\n",
      "No.71 iteration: x71=1.902684\n",
      "No.72 iteration: x72=1.902574\n",
      "No.73 iteration: x73=1.902467\n",
      "No.74 iteration: x74=1.902363\n",
      "No.75 iteration: x75=1.902263\n",
      "No.76 iteration: x76=1.902165\n",
      "No.77 iteration: x77=1.902070\n",
      "No.78 iteration: x78=1.901978\n",
      "No.79 iteration: x79=1.901888\n",
      "No.80 iteration: x80=1.901800\n",
      "No.81 iteration: x81=1.901715\n",
      "No.82 iteration: x82=1.901632\n",
      "No.83 iteration: x83=1.901552\n",
      "No.84 iteration: x84=1.901473\n",
      "No.85 iteration: x85=1.901397\n",
      "No.86 iteration: x86=1.901322\n",
      "No.87 iteration: x87=1.901249\n",
      "No.88 iteration: x88=1.901178\n",
      "No.89 iteration: x89=1.901109\n",
      "No.90 iteration: x90=1.901041\n",
      "No.91 iteration: x91=1.900975\n",
      "No.92 iteration: x92=1.900910\n",
      "No.93 iteration: x93=1.900847\n",
      "No.94 iteration: x94=1.900786\n",
      "No.95 iteration: x95=1.900725\n",
      "No.96 iteration: x96=1.900667\n",
      "No.97 iteration: x97=1.900609\n",
      "No.98 iteration: x98=1.900553\n",
      "No.99 iteration: x99=1.900497\n",
      "No.100 iteration: x100=1.900444\n",
      "No.101 iteration: x101=1.900391\n",
      "No.102 iteration: x102=1.900339\n",
      "No.103 iteration: x103=1.900288\n",
      "No.104 iteration: x104=1.900239\n",
      "No.105 iteration: x105=1.900190\n",
      "No.106 iteration: x106=1.900143\n",
      "No.107 iteration: x107=1.900096\n",
      "No.108 iteration: x108=1.900050\n",
      "No.109 iteration: x109=1.900005\n",
      "No.110 iteration: x110=1.899961\n",
      "No.111 iteration: x111=1.899918\n",
      "No.112 iteration: x112=1.899876\n",
      "No.113 iteration: x113=1.899834\n",
      "No.114 iteration: x114=1.899794\n",
      "No.115 iteration: x115=1.899754\n",
      "No.116 iteration: x116=1.899714\n",
      "No.117 iteration: x117=1.899676\n",
      "No.118 iteration: x118=1.899638\n",
      "No.119 iteration: x119=1.899601\n",
      "No.120 iteration: x120=1.899564\n",
      "No.121 iteration: x121=1.899528\n",
      "No.122 iteration: x122=1.899493\n",
      "No.123 iteration: x123=1.899459\n",
      "No.124 iteration: x124=1.899424\n",
      "No.125 iteration: x125=1.899391\n",
      "No.126 iteration: x126=1.899358\n",
      "No.127 iteration: x127=1.899326\n",
      "No.128 iteration: x128=1.899294\n",
      "No.129 iteration: x129=1.899262\n",
      "No.130 iteration: x130=1.899232\n",
      "No.131 iteration: x131=1.899201\n",
      "No.132 iteration: x132=1.899172\n",
      "No.133 iteration: x133=1.899142\n",
      "No.134 iteration: x134=1.899113\n",
      "No.135 iteration: x135=1.899085\n",
      "No.136 iteration: x136=1.899057\n",
      "No.137 iteration: x137=1.899029\n",
      "No.138 iteration: x138=1.899002\n",
      "No.139 iteration: x139=1.898975\n",
      "No.140 iteration: x140=1.898949\n",
      "No.141 iteration: x141=1.898923\n",
      "No.142 iteration: x142=1.898897\n",
      "No.143 iteration: x143=1.898872\n",
      "No.144 iteration: x144=1.898847\n",
      "No.145 iteration: x145=1.898823\n",
      "No.146 iteration: x146=1.898799\n",
      "No.147 iteration: x147=1.898775\n",
      "No.148 iteration: x148=1.898752\n",
      "No.149 iteration: x149=1.898729\n",
      "No.150 iteration: x150=1.898706\n",
      "No.151 iteration: x151=1.898683\n",
      "No.152 iteration: x152=1.898661\n",
      "No.153 iteration: x153=1.898639\n",
      "No.154 iteration: x154=1.898618\n",
      "No.155 iteration: x155=1.898597\n",
      "No.156 iteration: x156=1.898576\n",
      "No.157 iteration: x157=1.898555\n",
      "No.158 iteration: x158=1.898535\n",
      "No.159 iteration: x159=1.898514\n",
      "No.160 iteration: x160=1.898494\n",
      "No.161 iteration: x161=1.898475\n",
      "No.162 iteration: x162=1.898455\n",
      "No.163 iteration: x163=1.898436\n",
      "No.164 iteration: x164=1.898417\n",
      "No.165 iteration: x165=1.898399\n",
      "No.166 iteration: x166=1.898380\n",
      "No.167 iteration: x167=1.898362\n",
      "No.168 iteration: x168=1.898344\n",
      "No.169 iteration: x169=1.898327\n",
      "No.170 iteration: x170=1.898309\n",
      "No.171 iteration: x171=1.898292\n",
      "No.172 iteration: x172=1.898275\n",
      "No.173 iteration: x173=1.898258\n",
      "No.174 iteration: x174=1.898241\n",
      "No.175 iteration: x175=1.898225\n",
      "No.176 iteration: x176=1.898208\n",
      "No.177 iteration: x177=1.898192\n",
      "No.178 iteration: x178=1.898176\n",
      "No.179 iteration: x179=1.898161\n",
      "No.180 iteration: x180=1.898145\n",
      "No.181 iteration: x181=1.898130\n",
      "No.182 iteration: x182=1.898115\n",
      "No.183 iteration: x183=1.898100\n",
      "No.184 iteration: x184=1.898085\n",
      "No.185 iteration: x185=1.898070\n",
      "No.186 iteration: x186=1.898056\n",
      "No.187 iteration: x187=1.898041\n",
      "No.188 iteration: x188=1.898027\n",
      "No.189 iteration: x189=1.898013\n",
      "No.190 iteration: x190=1.897999\n",
      "No.191 iteration: x191=1.897986\n",
      "No.192 iteration: x192=1.897972\n",
      "No.193 iteration: x193=1.897959\n",
      "No.194 iteration: x194=1.897945\n",
      "No.195 iteration: x195=1.897932\n",
      "No.196 iteration: x196=1.897919\n",
      "No.197 iteration: x197=1.897906\n",
      "No.198 iteration: x198=1.897894\n",
      "No.199 iteration: x199=1.897881\n",
      "No.200 iteration: x200=1.897869\n",
      "No.201 iteration: x201=1.897856\n",
      "No.202 iteration: x202=1.897844\n",
      "No.203 iteration: x203=1.897832\n",
      "No.204 iteration: x204=1.897820\n",
      "No.205 iteration: x205=1.897808\n",
      "No.206 iteration: x206=1.897796\n",
      "No.207 iteration: x207=1.897785\n",
      "No.208 iteration: x208=1.897773\n",
      "No.209 iteration: x209=1.897762\n",
      "No.210 iteration: x210=1.897751\n",
      "No.211 iteration: x211=1.897740\n",
      "No.212 iteration: x212=1.897728\n",
      "No.213 iteration: x213=1.897718\n",
      "No.214 iteration: x214=1.897707\n",
      "No.215 iteration: x215=1.897696\n",
      "No.216 iteration: x216=1.897685\n",
      "No.217 iteration: x217=1.897675\n",
      "No.218 iteration: x218=1.897664\n",
      "No.219 iteration: x219=1.897654\n",
      "No.220 iteration: x220=1.897644\n",
      "No.221 iteration: x221=1.897634\n",
      "No.222 iteration: x222=1.897624\n",
      "No.223 iteration: x223=1.897614\n",
      "No.224 iteration: x224=1.897604\n",
      "No.225 iteration: x225=1.897594\n",
      "No.226 iteration: x226=1.897585\n",
      "No.227 iteration: x227=1.897575\n",
      "No.228 iteration: x228=1.897566\n",
      "No.229 iteration: x229=1.897556\n",
      "No.230 iteration: x230=1.897547\n",
      "No.231 iteration: x231=1.897538\n",
      "No.232 iteration: x232=1.897528\n",
      "No.233 iteration: x233=1.897519\n",
      "No.234 iteration: x234=1.897510\n",
      "No.235 iteration: x235=1.897501\n",
      "No.236 iteration: x236=1.897493\n",
      "No.237 iteration: x237=1.897484\n",
      "No.238 iteration: x238=1.897475\n",
      "No.239 iteration: x239=1.897467\n",
      "No.240 iteration: x240=1.897458\n",
      "No.241 iteration: x241=1.897450\n",
      "No.242 iteration: x242=1.897441\n",
      "No.243 iteration: x243=1.897433\n",
      "No.244 iteration: x244=1.897425\n",
      "No.245 iteration: x245=1.897416\n",
      "The root of x - 2sin(x)=0 is 1.897416\n"
     ]
    }
   ],
   "source": [
    "def newton(x0):\n",
    "    x=[x0]\n",
    "    k=0\n",
    "    while abs(f(x[k]))>epsilon or abs(x[k] - x[k-1])>epsilon:\n",
    "        x.append(x[k] - f(x[k])/fprime(x[k]))\n",
    "        k=k+1\n",
    "        print(\"No.%d iteration: x%d=%f\"%(k,k,x[k]))\n",
    "        \n",
    "    return x[k]\n",
    "\n",
    "\n",
    "print(r\"The root of x - 2sin(x)=0 is %f\"%(newton(1.5)))"
   ]
  },
  {
   "cell_type": "markdown",
   "id": "28a83b8f-0406-4bf5-bcff-c99dcb99bcf9",
   "metadata": {},
   "source": [
    "### 割线法"
   ]
  },
  {
   "cell_type": "code",
   "execution_count": 12,
   "id": "c1f63aa7-4c62-4ce8-a0c1-49c0edfbfd13",
   "metadata": {},
   "outputs": [
    {
     "name": "stdout",
     "output_type": "stream",
     "text": [
      "No.1 iteration: x1=1.716413\n",
      "No.2 iteration: x2=1.801018\n",
      "No.3 iteration: x3=1.839107\n",
      "No.4 iteration: x4=1.861795\n",
      "No.5 iteration: x5=1.874951\n",
      "No.6 iteration: x6=1.882927\n",
      "No.7 iteration: x7=1.887769\n",
      "No.8 iteration: x8=1.890737\n",
      "No.9 iteration: x9=1.892560\n",
      "No.10 iteration: x10=1.893683\n",
      "No.11 iteration: x11=1.894376\n",
      "No.12 iteration: x12=1.894803\n",
      "No.13 iteration: x13=1.895067\n",
      "No.14 iteration: x14=1.895231\n",
      "No.15 iteration: x15=1.895331\n",
      "No.16 iteration: x16=1.895394\n",
      "No.17 iteration: x17=1.895432\n",
      "No.18 iteration: x18=1.895456\n",
      "No.19 iteration: x19=1.895470\n",
      "No.20 iteration: x20=1.895480\n",
      "The root of x - 2sin(x)=0 is 1.895480\n"
     ]
    }
   ],
   "source": [
    "def secant(x0,x1):\n",
    "    x=[x0,x1]\n",
    "    k=1\n",
    "    print(\"No.%d iteration: x%d=%f\"%(k,k,x[k]))\n",
    "    while abs(f(x[k]))>epsilon or abs(x[k] - x[k-1])>epsilon:\n",
    "        x.append(x[k] - f(x[k])*(x[k]-x[k-1])/(f(x[k])-f(x[k-1])))\n",
    "        k=k+1\n",
    "        print(\"No.%d iteration: x%d=%f\"%(k,k,x[k]))\n",
    "        \n",
    "    return x[k]\n",
    "\n",
    "\n",
    "print(r\"The root of x - 2sin(x)=0 is %f\"%(secant(1.5,1.716413)))"
   ]
  },
  {
   "cell_type": "code",
   "execution_count": null,
   "id": "e88bc3a8-e2a3-4af4-a2e1-b133e30a22fd",
   "metadata": {},
   "outputs": [],
   "source": []
  }
 ],
 "metadata": {
  "kernelspec": {
   "display_name": "Python 3 (ipykernel)",
   "language": "python",
   "name": "python3"
  },
  "language_info": {
   "codemirror_mode": {
    "name": "ipython",
    "version": 3
   },
   "file_extension": ".py",
   "mimetype": "text/x-python",
   "name": "python",
   "nbconvert_exporter": "python",
   "pygments_lexer": "ipython3",
   "version": "3.8.12"
  }
 },
 "nbformat": 4,
 "nbformat_minor": 5
}
